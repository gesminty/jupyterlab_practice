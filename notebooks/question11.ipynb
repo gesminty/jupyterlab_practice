{
 "cells": [
  {
   "cell_type": "markdown",
   "id": "baa367e6-c35f-4dd7-8714-0a6f17ee2a3e",
   "metadata": {},
   "source": [
    "# Gillian Minty\n",
    "Notebook for assignment 7"
   ]
  },
  {
   "cell_type": "code",
   "execution_count": 13,
   "id": "c4235d54-6aa3-4879-97e6-70ae5ed5433d",
   "metadata": {
    "tags": []
   },
   "outputs": [
    {
     "name": "stdout",
     "output_type": "stream",
     "text": [
      "5.0\n"
     ]
    }
   ],
   "source": [
    "def compute_mean(list):\n",
    "    sum = 0\n",
    "    n = len(list)\n",
    "\n",
    "    for i in list:\n",
    "        sum = sum + i\n",
    "    mean = sum/n\n",
    "    print(mean)\n",
    "compute_mean([2, 4, 6, 8])"
   ]
  },
  {
   "cell_type": "markdown",
   "id": "80af1402-251c-49d3-9a31-07c4008730c7",
   "metadata": {},
   "source": [
    "the compute_mean function uses sum to calculate the sum of the numbers in the list and then gets the total number of list entries with len. Mean ($\\overline{x}=\\frac{1}{n} \\sum_{i=1}^{n} x_{i}$) is then calculated and printed.\n",
    "the mean formula is: \n",
    "\n",
    "$$\n",
    "{\\displaystyle A={\\frac {1}{n}}\\sum _{i=1}^{n}a_{i}={\\frac {a_{1}+a_{2}+\\cdots +a_{n}}{n}}}\n",
    "$$\n",
    "\n"
   ]
  },
  {
   "cell_type": "markdown",
   "id": "5030f45b-666c-44d2-8410-6904a1f803c4",
   "metadata": {},
   "source": [
    "latex code references:\n",
    "+ https://www.math-linux.com/latex-26/faq/latex-faq/article/latex-symbol-average\n",
    "+ https://www.latex4technics.com/?note=9XHBK5"
   ]
  },
  {
   "cell_type": "code",
   "execution_count": null,
   "id": "4713685c-292f-459a-a645-2ee880326f64",
   "metadata": {},
   "outputs": [],
   "source": []
  }
 ],
 "metadata": {
  "kernelspec": {
   "display_name": "Python [conda env:assgn7env]",
   "language": "python",
   "name": "conda-env-assgn7env-py"
  },
  "language_info": {
   "codemirror_mode": {
    "name": "ipython",
    "version": 3
   },
   "file_extension": ".py",
   "mimetype": "text/x-python",
   "name": "python",
   "nbconvert_exporter": "python",
   "pygments_lexer": "ipython3",
   "version": "3.11.4"
  }
 },
 "nbformat": 4,
 "nbformat_minor": 5
}
